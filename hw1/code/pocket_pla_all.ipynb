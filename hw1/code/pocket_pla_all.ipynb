{
 "cells": [
  {
   "cell_type": "markdown",
   "metadata": {},
   "source": [
    "python3 version: 3.7.0\n",
    "\n",
    "print( numpy.version.version ): 1.15.1\n",
    "\n",
    "print( matplotlib.__version__ ): 2.2.3"
   ]
  },
  {
   "cell_type": "code",
   "execution_count": 89,
   "metadata": {
    "ExecuteTime": {
     "end_time": "2018-10-14T06:45:55.080095Z",
     "start_time": "2018-10-14T06:45:55.042251Z"
    }
   },
   "outputs": [],
   "source": [
    "import numpy as np\n",
    "\n",
    "import matplotlib.pyplot as plt\n",
    "%matplotlib inline"
   ]
  },
  {
   "cell_type": "code",
   "execution_count": 90,
   "metadata": {
    "ExecuteTime": {
     "end_time": "2018-10-14T06:45:55.593077Z",
     "start_time": "2018-10-14T06:45:55.546664Z"
    }
   },
   "outputs": [],
   "source": [
    "def load_data(filename):\n",
    "    datas = []\n",
    "    with open(filename, \"r\") as ins:\n",
    "        for line in ins:\n",
    "            [ x, y ] = line.rstrip().split('\\t')\n",
    "            datas.append( [ np.array( [1] + x.split(\" \"), dtype=\"float\" ), float(y) ] )\n",
    "\n",
    "    X, Y  = np.zeros((len(datas), 5)), np.zeros((len(datas), 1))\n",
    "    for idx, data in enumerate(datas):\n",
    "        X[idx], Y[idx] = data[0], data[1]\n",
    "    return [X, Y]\n",
    "\n",
    "p15_17_datas = load_data(\"hw1_15_train.dat\")\n",
    "p18_20_datas = load_data(\"hw1_18_train.dat\")\n",
    "p18_20_tests = load_data(\"hw1_18_test.dat\" )\n",
    "\n",
    "w_0 = np.zeros((5, 1))"
   ]
  },
  {
   "cell_type": "code",
   "execution_count": 91,
   "metadata": {
    "ExecuteTime": {
     "end_time": "2018-10-14T06:45:56.145134Z",
     "start_time": "2018-10-14T06:45:56.111886Z"
    }
   },
   "outputs": [],
   "source": [
    "def shuffle_datas(datas):\n",
    "    indices = np.random.permutation(datas[0].shape[0])\n",
    "    return [ data[indices] for data in datas ]\n",
    "\n",
    "def calc_error_num(output, Y):\n",
    "    return np.sum(output != Y)\n",
    "\n",
    "def calc_error_rate(w, datas):\n",
    "    output = np.sign( datas[0].dot(w) )\n",
    "    output[ np.where( output == 0 ) ] = -1\n",
    "\n",
    "    return calc_error_num(output, datas[1])/(datas[0].shape[0])\n",
    "\n",
    "def pocket_pla(w, datas, eta = 1, update_limit = 0, last=False):\n",
    "    pocket, update_count, least_error_count = w.copy(), 0, datas[0].shape[0]\n",
    "    X, Y = datas\n",
    "\n",
    "    position = 0\n",
    "    while(True):\n",
    "        output = np.sign( X.dot(w) )\n",
    "        output[ np.where( output == 0 ) ] = -1\n",
    "        \n",
    "        current_error_count = calc_error_num(output, Y)\n",
    "        if least_error_count > current_error_count:\n",
    "            least_error_count = current_error_count\n",
    "            pocket = w.copy()\n",
    "\n",
    "        if (least_error_count == 0) or \\\n",
    "           (update_limit != 0 and update_count >= update_limit):\n",
    "            result = pocket if not last else w\n",
    "            return { \"w\": result, \"update count\": update_count }\n",
    "\n",
    "        error_index = np.where( output != Y )[0]\n",
    "        if not error_index[ error_index >= position ].any():\n",
    "            position = 0\n",
    "        position = error_index[ error_index >= position ][0]\n",
    "        w += eta * Y[position, 0] * X[position:position+1, :].T\n",
    "\n",
    "        update_count += 1"
   ]
  },
  {
   "cell_type": "code",
   "execution_count": 93,
   "metadata": {
    "ExecuteTime": {
     "end_time": "2018-10-14T06:48:00.068373Z",
     "start_time": "2018-10-14T06:47:09.205846Z"
    }
   },
   "outputs": [
    {
     "name": "stdout",
     "output_type": "stream",
     "text": [
      "p15    update count:  39.000\n",
      "p16    update count:  40.334\n",
      "p17    update count:  40.302\n",
      "p18      error rate:   0.137\n",
      "p19      error rate:   0.369\n",
      "p20      error rate:   0.118\n",
      "p07    update count:  40.476\n"
     ]
    },
    {
     "data": {
      "image/png": "[encoded data removed]",
      "text/plain": [
       "<Figure size 1920x640 with 1 Axes>"
      ]
     },
     "metadata": {},
     "output_type": "display_data"
    }
   ],
   "source": [
    "def draw_histogram(total):\n",
    "    datas_range = range( min(total), max(total), 1 )\n",
    "    plt.figure(num=None, figsize=(24, 8), dpi=80, facecolor='w', edgecolor='k')\n",
    "    plt.xticks(datas_range)\n",
    "    plt.xlim([datas_range[0]-1, datas_range[-1]+1])\n",
    "    plt.hist( total, edgecolor='black', linewidth=1.2, bins=datas_range, rwidth=0.8 )\n",
    "    plt.show()\n",
    "\n",
    "def experiment(\n",
    "    problem, experiment_num, calc_prop, datas, tests=None,\n",
    "    random_datas=True, eta=1, update_limit=0, last=False, histogram=False\n",
    "):\n",
    "    datas, total = datas.copy(), []\n",
    "    for _ in range(experiment_num):\n",
    "        datas = shuffle_datas(datas) if random_datas else datas\n",
    "        if   ( calc_prop == \"update count\" ):\n",
    "            total.append( pocket_pla(w_0.copy(), datas, eta=eta )[calc_prop] )\n",
    "        elif ( calc_prop == \"error rate\"   ):\n",
    "            w = pocket_pla(w_0.copy(), datas, update_limit=update_limit, last=last)[\"w\"]\n",
    "            total.append( calc_error_rate( w, tests ) )\n",
    "    print ('%3s %15s: %7.3f' % (problem, calc_prop, sum(total)/experiment_num))\n",
    "    \n",
    "    if histogram:\n",
    "        draw_histogram(total)\n",
    "\n",
    "experiment( \"p15\", 1   , \"update count\", p15_17_datas, random_datas=False                                )\n",
    "experiment( \"p16\", 2000, \"update count\", p15_17_datas                                                    )\n",
    "experiment( \"p17\", 2000, \"update count\", p15_17_datas, eta=0.5                                           )\n",
    "experiment( \"p18\", 2000, \"error rate\"  , p18_20_datas, update_limit=50 , tests=p18_20_tests              )\n",
    "experiment( \"p19\", 2000, \"error rate\"  , p18_20_datas, update_limit=50 , tests=p18_20_tests, last = True )\n",
    "experiment( \"p20\", 2000, \"error rate\"  , p18_20_datas, update_limit=100, tests=p18_20_tests              )\n",
    "experiment( \"p07\", 1126, \"update count\", p15_17_datas, histogram=True                                    )"
   ]
  },
  {
   "cell_type": "code",
   "execution_count": null,
   "metadata": {},
   "outputs": [],
   "source": []
  }
 ],
 "metadata": {
  "kernelspec": {
   "display_name": "Python 3",
   "language": "python",
   "name": "python3"
  },
  "language_info": {
   "codemirror_mode": {
    "name": "ipython",
    "version": 3
   },
   "file_extension": ".py",
   "mimetype": "text/x-python",
   "name": "python",
   "nbconvert_exporter": "python",
   "pygments_lexer": "ipython3",
   "version": "3.7.0"
  }
 },
 "nbformat": 4,
 "nbformat_minor": 2
}
