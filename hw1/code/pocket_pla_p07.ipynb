{
 "cells": [
  {
   "cell_type": "markdown",
   "metadata": {},
   "source": [
    "python3 version: 3.7.0\n",
    "\n",
    "print( numpy.version.version ): 1.15.1\n",
    "\n",
    "print( matplotlib.__version__ ): 2.2.3"
   ]
  },
  {
   "cell_type": "code",
   "execution_count": 2,
   "metadata": {
    "ExecuteTime": {
     "end_time": "2018-10-20T15:24:16.823828Z",
     "start_time": "2018-10-20T15:24:16.807453Z"
    }
   },
   "outputs": [],
   "source": [
    "import numpy as np\n",
    "\n",
    "# import matplotlib.pyplot as plt\n",
    "# %matplotlib inline"
   ]
  },
  {
   "cell_type": "code",
   "execution_count": 3,
   "metadata": {
    "ExecuteTime": {
     "end_time": "2018-10-20T15:24:17.096333Z",
     "start_time": "2018-10-20T15:24:17.061860Z"
    }
   },
   "outputs": [],
   "source": [
    "def load_data(filename):\n",
    "    datas = []\n",
    "    with open(filename, \"r\") as ins:\n",
    "        for line in ins:\n",
    "            [ x, y ] = line.rstrip().split('\\t')\n",
    "            datas.append( [ np.array( [1] + x.split(\" \"), dtype=\"float\" ), float(y) ] )\n",
    "\n",
    "    X, Y  = np.zeros((len(datas), 5)), np.zeros((len(datas), 1))\n",
    "    for idx, data in enumerate(datas):\n",
    "        X[idx], Y[idx] = data[0], data[1]\n",
    "    return [X, Y]\n",
    "\n",
    "p15_17_datas = load_data(\"hw1_15_train.dat\")\n",
    "\n",
    "w_0 = np.zeros((5, 1))"
   ]
  },
  {
   "cell_type": "code",
   "execution_count": 4,
   "metadata": {
    "ExecuteTime": {
     "end_time": "2018-10-20T15:24:17.224533Z",
     "start_time": "2018-10-20T15:24:17.203217Z"
    }
   },
   "outputs": [],
   "source": [
    "def shuffle_datas(datas):\n",
    "    indices = np.random.permutation(datas[0].shape[0])\n",
    "    return [ data[indices] for data in datas ]\n",
    "\n",
    "def calc_error_num(output, Y):\n",
    "    return np.sum(output != Y)\n",
    "\n",
    "def pocket_pla( w, datas, update_limit=0 ):\n",
    "    pocket, update_count, least_error_count = w.copy(), 0, datas[0].shape[0]\n",
    "    X, Y = datas\n",
    "\n",
    "    position = 0\n",
    "    while(True):\n",
    "        output = np.sign( X.dot(w) )\n",
    "        output[ np.where( output == 0 ) ] = -1\n",
    "        \n",
    "        current_error_count = calc_error_num(output, Y)\n",
    "        if least_error_count > current_error_count:\n",
    "            least_error_count = current_error_count\n",
    "            pocket = w.copy()\n",
    "\n",
    "        if (least_error_count == 0) or \\\n",
    "           (update_limit != 0 and update_count >= update_limit):\n",
    "            return { \"w\": pocket, \"update count\": update_count }\n",
    "\n",
    "        error_index = np.where( output != Y )[0]\n",
    "        if not error_index[ error_index >= position ].any():\n",
    "            position = 0\n",
    "        position = error_index[ error_index >= position ][0]\n",
    "        w += Y[position, 0] * X[position:position+1, :].T\n",
    "\n",
    "        update_count += 1"
   ]
  },
  {
   "cell_type": "code",
   "execution_count": 29,
   "metadata": {
    "ExecuteTime": {
     "end_time": "2018-10-20T15:14:38.814531Z",
     "start_time": "2018-10-20T15:14:36.126089Z"
    }
   },
   "outputs": [
    {
     "name": "stdout",
     "output_type": "stream",
     "text": [
      "Average update count: 40.833\n"
     ]
    }
   ],
   "source": [
    "def draw_histogram(total):\n",
    "    datas_range = range( min(total), max(total), 1 )\n",
    "    plt.figure( num=None, figsize=(24, 8), dpi=80, facecolor='w', edgecolor='k')\n",
    "    plt.xticks( datas_range )\n",
    "    plt.xlim( [datas_range[0]-1, datas_range[-1]+1] )\n",
    "    plt.hist( total, edgecolor='black', linewidth=1.2, bins=datas_range, rwidth=0.8 )\n",
    "    plt.show()\n",
    "\n",
    "experiment_num = 1126\n",
    "datas, total = p15_17_datas.copy(), []\n",
    "for _ in range(experiment_num):\n",
    "    datas = shuffle_datas(datas)\n",
    "    total.append( pocket_pla( w_0.copy(), datas )[\"update count\"] )\n",
    "print ('Average update count: %.3f' % ( sum(total)/experiment_num ))\n",
    "\n",
    "# draw_histogram(total)"
   ]
  }
 ],
 "metadata": {
  "kernelspec": {
   "display_name": "Python 3",
   "language": "python",
   "name": "python3"
  },
  "language_info": {
   "codemirror_mode": {
    "name": "ipython",
    "version": 3
   },
   "file_extension": ".py",
   "mimetype": "text/x-python",
   "name": "python",
   "nbconvert_exporter": "python",
   "pygments_lexer": "ipython3",
   "version": "3.7.0"
  }
 },
 "nbformat": 4,
 "nbformat_minor": 2
}
