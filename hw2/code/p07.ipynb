{
 "cells": [
  {
   "cell_type": "markdown",
   "metadata": {},
   "source": [
    "python3 version: 3.7.0\n",
    "\n",
    "print( numpy.version.version ): 1.15.1\n",
    "\n",
    "print( matplotlib.__version__ ): 2.2.3"
   ]
  },
  {
   "cell_type": "code",
   "execution_count": null,
   "metadata": {
    "ExecuteTime": {
     "end_time": "2018-10-20T15:24:16.823828Z",
     "start_time": "2018-10-20T15:24:16.807453Z"
    }
   },
   "outputs": [],
   "source": [
    "import numpy as np\n",
    "\n",
    "import matplotlib.pyplot as plt\n",
    "%matplotlib inline"
   ]
  },
  {
   "cell_type": "code",
   "execution_count": null,
   "metadata": {
    "ExecuteTime": {
     "end_time": "2018-10-20T15:24:17.096333Z",
     "start_time": "2018-10-20T15:24:17.061860Z"
    }
   },
   "outputs": [],
   "source": [
    "def generateData():\n",
    "    x = np.random.uniform(-1, 1, 20)\n",
    "    y = np.sign(x)\n",
    "    y[y == 0] = -1\n",
    "    prop = np.random.uniform(0, 1, 20)\n",
    "    y[prop >= 0.8] *= -1\n",
    "    return x, y"
   ]
  },
  {
   "cell_type": "code",
   "execution_count": null,
   "metadata": {
    "ExecuteTime": {
     "end_time": "2018-10-20T15:24:17.224533Z",
     "start_time": "2018-10-20T15:24:17.203217Z"
    }
   },
   "outputs": [],
   "source": [
    "def decision_stump(X, Y):\n",
    "    theta = np.sort(X)\n",
    "    num = len(theta)\n",
    "    Xtemp = np.tile(X, (num, 1))\n",
    "    ttemp = np.tile( np.reshape(theta, (num, 1)), (1, num) )\n",
    "    ypred = np.sign(Xtemp - ttemp)\n",
    "    ypred[ypred == 0] = -1\n",
    "    err = np.sum(ypred != Y, axis=1)\n",
    "    if np.min(err) <= num-np.max(err):\n",
    "        return 1, theta[np.argmin(err)], np.min(err)/num\n",
    "    else:\n",
    "        return -1, theta[np.argmax(err)], (num-np.max(err))/num"
   ]
  },
  {
   "cell_type": "code",
   "execution_count": null,
   "metadata": {
    "ExecuteTime": {
     "end_time": "2018-10-20T15:14:38.814531Z",
     "start_time": "2018-10-20T15:14:36.126089Z"
    }
   },
   "outputs": [],
   "source": [
    "def draw_histogram(total):\n",
    "    plt.figure( num=None, figsize=(24, 8), dpi=80, facecolor='w', edgecolor='k')\n",
    "    plt.hist( total, edgecolor='black', linewidth=1.2, bins=100, rwidth=0.8 )\n",
    "    plt.show()\n",
    "\n",
    "experiment_num = 1000\n",
    "total = []\n",
    "for _ in range(experiment_num):\n",
    "    X, Y = generateData()\n",
    "    theta = np.sort(X)\n",
    "    s, theta, errin = decision_stump(X, Y)\n",
    "    errout = 0.5+0.3*s*(((theta if theta > 0 else -theta))-1)\n",
    "    total += [errin - errout]\n",
    "\n",
    "draw_histogram(total)"
   ]
  },
  {
   "cell_type": "code",
   "execution_count": null,
   "metadata": {},
   "outputs": [],
   "source": []
  }
 ],
 "metadata": {
  "kernelspec": {
   "display_name": "Python 3",
   "language": "python",
   "name": "python3"
  },
  "language_info": {
   "codemirror_mode": {
    "name": "ipython",
    "version": 3
   },
   "file_extension": ".py",
   "mimetype": "text/x-python",
   "name": "python",
   "nbconvert_exporter": "python",
   "pygments_lexer": "ipython3",
   "version": "3.7.1"
  }
 },
 "nbformat": 4,
 "nbformat_minor": 2
}
